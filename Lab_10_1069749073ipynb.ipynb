{
  "nbformat": 4,
  "nbformat_minor": 0,
  "metadata": {
    "colab": {
      "provenance": [],
      "authorship_tag": "ABX9TyOpj/zisDDTAtu1Nrxi+I44",
      "include_colab_link": true
    },
    "kernelspec": {
      "name": "python3",
      "display_name": "Python 3"
    },
    "language_info": {
      "name": "python"
    }
  },
  "cells": [
    {
      "cell_type": "markdown",
      "metadata": {
        "id": "view-in-github",
        "colab_type": "text"
      },
      "source": [
        "<a href=\"https://colab.research.google.com/github/ediazb0922-svg/Base_Datos_Empresa/blob/main/Lab_10_1069749073ipynb.ipynb\" target=\"_parent\"><img src=\"https://colab.research.google.com/assets/colab-badge.svg\" alt=\"Open In Colab\"/></a>"
      ]
    },
    {
      "cell_type": "code",
      "execution_count": 1,
      "metadata": {
        "colab": {
          "base_uri": "https://localhost:8080/"
        },
        "id": "xTFe0puJ0Rdw",
        "outputId": "edb06eeb-949e-4d70-b2c4-36ba68d6eb99"
      },
      "outputs": [
        {
          "output_type": "stream",
          "name": "stdout",
          "text": [
            "Valores nulos:\n",
            "Nombre              1\n",
            "Edad                1\n",
            "Fecha Ingreso       0\n",
            "Resultado Prueba    0\n",
            "dtype: int64\n",
            "\n",
            "Datos limpios:\n",
            "       Nombre  Edad Fecha Ingreso Resultado Prueba\n",
            "0      Carlos  34.0    2021-01-15         Positivo\n",
            "1         Ana  29.0           NaN         Negativo\n",
            "2        Luis  33.2    2022-07-01         Positivo\n",
            "3       Pedro  45.0           NaN         Positivo\n",
            "4       María  25.0    2021-05-20         Negativo\n",
            "5  Sin nombre  33.0    2020-03-12         Negativo\n"
          ]
        },
        {
          "output_type": "stream",
          "name": "stderr",
          "text": [
            "/tmp/ipython-input-1-1833085548.py:21: FutureWarning: A value is trying to be set on a copy of a DataFrame or Series through chained assignment using an inplace method.\n",
            "The behavior will change in pandas 3.0. This inplace method will never work because the intermediate object on which we are setting values always behaves as a copy.\n",
            "\n",
            "For example, when doing 'df[col].method(value, inplace=True)', try using 'df.method({col: value}, inplace=True)' or df[col] = df[col].method(value) instead, to perform the operation inplace on the original object.\n",
            "\n",
            "\n",
            "  df[\"Edad\"].fillna(df[\"Edad\"].mean(), inplace=True)\n",
            "/tmp/ipython-input-1-1833085548.py:24: FutureWarning: A value is trying to be set on a copy of a DataFrame or Series through chained assignment using an inplace method.\n",
            "The behavior will change in pandas 3.0. This inplace method will never work because the intermediate object on which we are setting values always behaves as a copy.\n",
            "\n",
            "For example, when doing 'df[col].method(value, inplace=True)', try using 'df.method({col: value}, inplace=True)' or df[col] = df[col].method(value) instead, to perform the operation inplace on the original object.\n",
            "\n",
            "\n",
            "  df[\"Nombre\"].fillna(\"Sin nombre\", inplace=True)\n"
          ]
        }
      ],
      "source": [
        "import pandas as pd\n",
        "\n",
        "pacientes = {\n",
        "    \"Nombre\": [\"Carlos\", \"Ana\", \"Luis\", \"Pedro\", \"María\", None],\n",
        "    \"Edad\": [34, 29, None, 45, 25, 33],\n",
        "    \"Fecha Ingreso\": [\"2021-01-15\", \"2020/03/12\", \"2022-07-01\", \"2021/12/01\", \"2021-05-20\", \"2020-03-12\"],\n",
        "    \"Resultado Prueba\": [\"Positivo\", \"Negativo\", \"Positivo\", \"Positivo\", \"Negativo\", \"Negativo\"]\n",
        "}\n",
        "\n",
        "df = pd.DataFrame(pacientes)\n",
        "\n",
        "print(\"Valores nulos:\")\n",
        "print(df.isnull().sum())\n",
        "\n",
        "df[\"Fecha Ingreso\"] = pd.to_datetime(df[\"Fecha Ingreso\"], errors=\"coerce\").dt.strftime('%Y-%m-%d')\n",
        "\n",
        "df[\"Edad\"].fillna(df[\"Edad\"].mean(), inplace=True)\n",
        "\n",
        "df[\"Nombre\"].fillna(\"Sin nombre\", inplace=True)\n",
        "\n",
        "print(\"\\nDatos limpios:\")\n",
        "print(df)\n"
      ]
    },
    {
      "cell_type": "code",
      "source": [
        "\n",
        "data = {\n",
        "    \"Cliente ID\": [1, 2, 3, 4, 5],\n",
        "    \"Producto\": [\"A\", \"B\", \"C\", \"D\", \"E\"],\n",
        "    \"Cantidad\": [10, 20, None, 5, 15],\n",
        "    \"Precio\": [\"100\", \"200$\", \"300\", \"cuatrocientos\", \"500\"],\n",
        "    \"Fecha Transacción\": [\"2023-01-15\", \"2023/02/20\", \"2023-03-25\", \"2023/04/30\", \"2023-05-10\"]\n",
        "}\n",
        "df = pd.DataFrame(data)\n",
        "\n",
        "def limpiar_precio(x):\n",
        "    try:\n",
        "        return float(str(x).replace(\"$\", \"\").replace(\",\", \"\"))\n",
        "    except:\n",
        "        return None\n",
        "\n",
        "df[\"Precio\"] = df[\"Precio\"].apply(limpiar_precio)\n",
        "\n",
        "# la media\n",
        "df[\"Precio\"].fillna(df[\"Precio\"].mean(), inplace=True)\n",
        "\n",
        "# cantidad nula con 0 o media\n",
        "df[\"Cantidad\"].fillna(df[\"Cantidad\"].mean(), inplace=True)\n",
        "\n",
        "#  fechas\n",
        "df[\"Fecha Transacción\"] = pd.to_datetime(df[\"Fecha Transacción\"], errors='coerce').dt.strftime('%Y-%m-%d')\n",
        "\n",
        "print(df)\n"
      ],
      "metadata": {
        "colab": {
          "base_uri": "https://localhost:8080/"
        },
        "id": "9PHnQEoI1SLj",
        "outputId": "378738a6-fd4c-4c76-c1ba-905d39e1de8a"
      },
      "execution_count": 2,
      "outputs": [
        {
          "output_type": "stream",
          "name": "stdout",
          "text": [
            "   Cliente ID Producto  Cantidad  Precio Fecha Transacción\n",
            "0           1        A      10.0   100.0        2023-01-15\n",
            "1           2        B      20.0   200.0               NaN\n",
            "2           3        C      12.5   300.0        2023-03-25\n",
            "3           4        D       5.0   275.0               NaN\n",
            "4           5        E      15.0   500.0        2023-05-10\n"
          ]
        },
        {
          "output_type": "stream",
          "name": "stderr",
          "text": [
            "/tmp/ipython-input-2-4246057606.py:21: FutureWarning: A value is trying to be set on a copy of a DataFrame or Series through chained assignment using an inplace method.\n",
            "The behavior will change in pandas 3.0. This inplace method will never work because the intermediate object on which we are setting values always behaves as a copy.\n",
            "\n",
            "For example, when doing 'df[col].method(value, inplace=True)', try using 'df.method({col: value}, inplace=True)' or df[col] = df[col].method(value) instead, to perform the operation inplace on the original object.\n",
            "\n",
            "\n",
            "  df[\"Precio\"].fillna(df[\"Precio\"].mean(), inplace=True)\n",
            "/tmp/ipython-input-2-4246057606.py:24: FutureWarning: A value is trying to be set on a copy of a DataFrame or Series through chained assignment using an inplace method.\n",
            "The behavior will change in pandas 3.0. This inplace method will never work because the intermediate object on which we are setting values always behaves as a copy.\n",
            "\n",
            "For example, when doing 'df[col].method(value, inplace=True)', try using 'df.method({col: value}, inplace=True)' or df[col] = df[col].method(value) instead, to perform the operation inplace on the original object.\n",
            "\n",
            "\n",
            "  df[\"Cantidad\"].fillna(df[\"Cantidad\"].mean(), inplace=True)\n"
          ]
        }
      ]
    },
    {
      "cell_type": "code",
      "source": [
        "clientes = {\n",
        "    \"Nombre\": [\"Juan\", \"Maria\", \"Pedro\", \"Ana\", \"Luisa\", \"Carlos\", \"Juan\"],\n",
        "    \"Edad\": [25, 30, None, 29, 28, 200, 25],\n",
        "    \"Email\": [\"juan@mail.com\", \"maria@mail.com\", \"pedro@mail.com\", \"ana@mail.com\", \"luisa@mail.com\", \"carlos@mail.com\", \"juan@mail.com\"],\n",
        "    \"Pais\": [\"colombia\", \"Colombia\", \"Mexico\", \"Argentina\", \"Colombia\", \"Brazil\", \"colombia\"],\n",
        "    \"Genero\": [\"M\", \"F\", \"H\", \"F\", \"Femenino\", \"M\", \"M\"],\n",
        "    \"Visitas\": [5, 7, 6, 4, 8, 2, 5]\n",
        "}\n",
        "df = pd.DataFrame(clientes)\n",
        "\n",
        "df[\"Edad\"].fillna(df[\"Edad\"].mean(), inplace=True)\n",
        "\n",
        "df.drop_duplicates(inplace=True)\n",
        "\n",
        "df[\"Genero\"] = df[\"Genero\"].replace({\n",
        "    \"M\": \"Masculino\",\n",
        "    \"H\": \"Masculino\",\n",
        "    \"F\": \"Femenino\",\n",
        "    \"femenino\": \"Femenino\"\n",
        "})\n",
        "\n",
        "df[\"Pais\"] = df[\"Pais\"].str.capitalize()\n",
        "\n",
        "df = df[df[\"Edad\"] <= 120]\n",
        "\n",
        "print(df)\n"
      ],
      "metadata": {
        "colab": {
          "base_uri": "https://localhost:8080/"
        },
        "id": "WZZz0Rn42xBC",
        "outputId": "061624e2-8cc3-4f6a-d4b7-53c37018860f"
      },
      "execution_count": 3,
      "outputs": [
        {
          "output_type": "stream",
          "name": "stdout",
          "text": [
            "  Nombre       Edad           Email       Pais     Genero  Visitas\n",
            "0   Juan  25.000000   juan@mail.com   Colombia  Masculino        5\n",
            "1  Maria  30.000000  maria@mail.com   Colombia   Femenino        7\n",
            "2  Pedro  56.166667  pedro@mail.com     Mexico  Masculino        6\n",
            "3    Ana  29.000000    ana@mail.com  Argentina   Femenino        4\n",
            "4  Luisa  28.000000  luisa@mail.com   Colombia   Femenino        8\n"
          ]
        },
        {
          "output_type": "stream",
          "name": "stderr",
          "text": [
            "/tmp/ipython-input-3-2209311042.py:12: FutureWarning: A value is trying to be set on a copy of a DataFrame or Series through chained assignment using an inplace method.\n",
            "The behavior will change in pandas 3.0. This inplace method will never work because the intermediate object on which we are setting values always behaves as a copy.\n",
            "\n",
            "For example, when doing 'df[col].method(value, inplace=True)', try using 'df.method({col: value}, inplace=True)' or df[col] = df[col].method(value) instead, to perform the operation inplace on the original object.\n",
            "\n",
            "\n",
            "  df[\"Edad\"].fillna(df[\"Edad\"].mean(), inplace=True)\n"
          ]
        }
      ]
    }
  ]
}