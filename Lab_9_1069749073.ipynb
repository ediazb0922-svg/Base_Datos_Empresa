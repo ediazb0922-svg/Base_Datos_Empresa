{
  "nbformat": 4,
  "nbformat_minor": 0,
  "metadata": {
    "colab": {
      "provenance": [],
      "authorship_tag": "ABX9TyMuNw8t4c+eA0SiInpXMZ2W",
      "include_colab_link": true
    },
    "kernelspec": {
      "name": "python3",
      "display_name": "Python 3"
    },
    "language_info": {
      "name": "python"
    }
  },
  "cells": [
    {
      "cell_type": "markdown",
      "metadata": {
        "id": "view-in-github",
        "colab_type": "text"
      },
      "source": [
        "<a href=\"https://colab.research.google.com/github/ediazb0922-svg/Base_Datos_Empresa/blob/main/Lab_9_1069749073.ipynb\" target=\"_parent\"><img src=\"https://colab.research.google.com/assets/colab-badge.svg\" alt=\"Open In Colab\"/></a>"
      ]
    },
    {
      "cell_type": "code",
      "source": [
        "import pandas as pd\n",
        "from datetime import datetime\n",
        "\n",
        "# Crear DataFrame\n",
        "data = {\n",
        "    \"Nombre\": [\"Juan\", \"Ana\", \"Pedro\", \"María\", \"Luis\", \"Ana\"],\n",
        "    \"Edad\": [28, 34, None, 45, 38, 34],\n",
        "    \"Salario\": [\"3000\", \"4000\", \"cinco mil\", \"4500\", \"4000\", \"5000\"],\n",
        "    \"Fecha Ingreso\": [\"2021-01-15\", \"2020/03/12\", \"2022-07-01\", \"2021/12/01\", \"2021-05-20\", \"2020-03-12\"]\n",
        "}\n",
        "df = pd.DataFrame(data)\n",
        "\n",
        "# 1. Contar valores faltantes\n",
        "print(\"Valores faltantes por columna:\")\n",
        "print(df.isnull().sum())\n",
        "\n",
        "# 2. Verificar si Salario es numérico\n",
        "def es_numero(x):\n",
        "    try:\n",
        "        float(x)\n",
        "        return True\n",
        "    except:\n",
        "        return False\n",
        "\n",
        "df[\"Salario_Num\"] = df[\"Salario\"].apply(es_numero)\n",
        "print(\"\\n¿Salario numérico?:\")\n",
        "print(df[~df[\"Salario_Num\"]])\n",
        "\n",
        "# 3. Estandarizar formato de fecha\n",
        "df[\"Fecha_Ingreso_Estandar\"] = pd.to_datetime(df[\"Fecha Ingreso\"], errors='coerce').dt.strftime('%Y-%m-%d')\n",
        "print(\"\\nFechas estandarizadas:\")\n",
        "print(df[[\"Fecha Ingreso\", \"Fecha_Ingreso_Estandar\"]])\n"
      ],
      "metadata": {
        "colab": {
          "base_uri": "https://localhost:8080/"
        },
        "id": "RLMbdxDYbR4U",
        "outputId": "f0e71ed9-3c43-40d1-805f-0d87abf6a37d"
      },
      "execution_count": null,
      "outputs": [
        {
          "output_type": "stream",
          "name": "stdout",
          "text": [
            "Valores faltantes por columna:\n",
            "Nombre           0\n",
            "Edad             1\n",
            "Salario          0\n",
            "Fecha Ingreso    0\n",
            "dtype: int64\n",
            "\n",
            "¿Salario numérico?:\n",
            "  Nombre  Edad    Salario Fecha Ingreso  Salario_Num\n",
            "2  Pedro   NaN  cinco mil    2022-07-01        False\n",
            "\n",
            "Fechas estandarizadas:\n",
            "  Fecha Ingreso Fecha_Ingreso_Estandar\n",
            "0    2021-01-15             2021-01-15\n",
            "1    2020/03/12                    NaN\n",
            "2    2022-07-01             2022-07-01\n",
            "3    2021/12/01                    NaN\n",
            "4    2021-05-20             2021-05-20\n",
            "5    2020-03-12             2020-03-12\n"
          ]
        }
      ]
    },
    {
      "cell_type": "code",
      "source": [
        "data2 = {\n",
        "    \"Nombre\": [\"Juan\", \"Ana\", \"Pedro\", \"María\", \"Luis\", \"Carla\"],\n",
        "    \"Edad\": [28, None, 40, 45, 38, 34],\n",
        "    \"Salario\": [\"3000\", \"4000\", \"4500\", \"cuatro mil\", \"5000\", \"4000\"],\n",
        "    \"Cargo\": [\"Analista\", \"Gerente\", \"Desarrollador\", \"Gerente\", \"Analista\", None],\n",
        "    \"FechaIngreso\": [\"2021-01-15\", \"2020/03/12\", \"2022-07-01\", \"2021/12/01\", None, \"2020-03-12\"]\n",
        "}\n",
        "df2 = pd.DataFrame(data2)\n",
        "\n",
        "# 1. Valores faltantes\n",
        "print(\"Faltantes:\")\n",
        "print(df2.isnull().sum())\n",
        "\n",
        "# 2. Salarios válidos\n",
        "df2[\"Salario Valido\"] = df2[\"Salario\"].apply(es_numero)\n",
        "print(\"\\nSalarios no válidos:\")\n",
        "print(df2[~df2[\"Salario Valido\"]])\n",
        "\n",
        "# 3. Fecha estandarizada\n",
        "df2[\"FechaIngreso_Estandar\"] = pd.to_datetime(df2[\"FechaIngreso\"], errors='coerce').dt.strftime('%Y-%m-%d')\n",
        "\n",
        "# 4. Cargos nulos\n",
        "print(\"\\nCargos faltantes:\")\n",
        "print(df2[df2[\"Cargo\"].isnull()])\n"
      ],
      "metadata": {
        "colab": {
          "base_uri": "https://localhost:8080/"
        },
        "id": "GZMtSeOTrwNp",
        "outputId": "025ef163-fcf3-46f4-9a3b-11577f66f4b1"
      },
      "execution_count": null,
      "outputs": [
        {
          "output_type": "stream",
          "name": "stdout",
          "text": [
            "Faltantes:\n",
            "Nombre          0\n",
            "Edad            1\n",
            "Salario         0\n",
            "Cargo           1\n",
            "FechaIngreso    1\n",
            "dtype: int64\n",
            "\n",
            "Salarios no válidos:\n",
            "  Nombre  Edad     Salario    Cargo FechaIngreso  Salario Valido\n",
            "3  María  45.0  cuatro mil  Gerente   2021/12/01           False\n",
            "\n",
            "Cargos faltantes:\n",
            "  Nombre  Edad Salario Cargo FechaIngreso  Salario Valido  \\\n",
            "5  Carla  34.0    4000  None   2020-03-12            True   \n",
            "\n",
            "  FechaIngreso_Estandar  \n",
            "5            2020-03-12  \n"
          ]
        }
      ]
    },
    {
      "cell_type": "code",
      "source": [
        "productos = {\n",
        "    \"Producto\": [\"Producto A\", \"Producto B\", \"Producto C\", \"Producto D\"],\n",
        "    \"Precio\": [150, -25, 100, None]\n",
        "}\n",
        "df_prod = pd.DataFrame(productos)\n",
        "\n",
        "# Mostrar productos con precios inválidos\n",
        "precios_invalidos = df_prod[(df_prod[\"Precio\"].isnull()) | (df_prod[\"Precio\"] < 0)]\n",
        "print(\"Productos con precios inválidos:\")\n",
        "print(precios_invalidos)\n"
      ],
      "metadata": {
        "colab": {
          "base_uri": "https://localhost:8080/"
        },
        "id": "5hnS-jObvNTG",
        "outputId": "5ba16a17-a50f-47fe-df1d-3d0b478c1604"
      },
      "execution_count": null,
      "outputs": [
        {
          "output_type": "stream",
          "name": "stdout",
          "text": [
            "Productos con precios inválidos:\n",
            "     Producto  Precio\n",
            "1  Producto B   -25.0\n",
            "3  Producto D     NaN\n"
          ]
        }
      ]
    },
    {
      "cell_type": "code",
      "source": [
        "clientes = {\n",
        "    \"ID Cliente\": [1, 2, 3, 2, 4],\n",
        "    \"Nombre\": [\"Ana\", \"Luis\", \"María\", \"Luis\", \"Carlos\"]\n",
        "}\n",
        "df_cli = pd.DataFrame(clientes)\n",
        "\n",
        "# Ver duplicados\n",
        "duplicados = df_cli[df_cli.duplicated(subset=\"ID Cliente\", keep=False)]\n",
        "print(\"Clientes duplicados:\")\n",
        "print(duplicados)\n"
      ],
      "metadata": {
        "colab": {
          "base_uri": "https://localhost:8080/"
        },
        "id": "wuCbFv4PwdeU",
        "outputId": "81962ce4-77c6-460d-9b87-2fecbf15876b"
      },
      "execution_count": null,
      "outputs": [
        {
          "output_type": "stream",
          "name": "stdout",
          "text": [
            "Clientes duplicados:\n",
            "   ID Cliente Nombre\n",
            "1           2   Luis\n",
            "3           2   Luis\n"
          ]
        }
      ]
    },
    {
      "cell_type": "code",
      "source": [
        "from cryptography.fernet import Fernet\n",
        "\n",
        "# 1. Generar clave\n",
        "clave = Fernet.generate_key()\n",
        "fernet = Fernet(clave)\n",
        "\n",
        "# 2. Texto a encriptar\n",
        "tarjeta = \"1234-5678-9101-1121\".encode()\n",
        "\n",
        "# 3. Encriptar\n",
        "encriptado = fernet.encrypt(tarjeta)\n",
        "\n",
        "# 4. Desencriptar\n",
        "desencriptado = fernet.decrypt(encriptado).decode()\n",
        "\n",
        "print(\"Encriptado:\", encriptado)\n",
        "print(\"Desencriptado:\", desencriptado)\n"
      ],
      "metadata": {
        "colab": {
          "base_uri": "https://localhost:8080/"
        },
        "id": "rKZFwNEFxUsZ",
        "outputId": "ca1868ee-8a9a-452e-8947-6f441b29dad8"
      },
      "execution_count": null,
      "outputs": [
        {
          "output_type": "stream",
          "name": "stdout",
          "text": [
            "Encriptado: b'gAAAAABohZLJ8lrpT3S6YmRFA5JiC0ztFE41iGabL1Hs-WGmRw69DnX6cWxFaRS6KAZnMpV8JyQWapvo47nxigMNd3CAXDaUBX7HsW6tG_tbP7f7LCv0XsE='\n",
            "Desencriptado: 1234-5678-9101-1121\n"
          ]
        }
      ]
    }
  ]
}